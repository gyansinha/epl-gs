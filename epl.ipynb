{
 "cells": [
  {
   "cell_type": "code",
   "execution_count": 15,
   "metadata": {},
   "outputs": [
    {
     "data": {
      "text/html": [
       "<div>\n",
       "<style scoped>\n",
       "    .dataframe tbody tr th:only-of-type {\n",
       "        vertical-align: middle;\n",
       "    }\n",
       "\n",
       "    .dataframe tbody tr th {\n",
       "        vertical-align: top;\n",
       "    }\n",
       "\n",
       "    .dataframe thead th {\n",
       "        text-align: right;\n",
       "    }\n",
       "</style>\n",
       "<table border=\"1\" class=\"dataframe\">\n",
       "  <thead>\n",
       "    <tr style=\"text-align: right;\">\n",
       "      <th></th>\n",
       "      <th>0</th>\n",
       "      <th>1</th>\n",
       "      <th>2</th>\n",
       "      <th>3</th>\n",
       "    </tr>\n",
       "  </thead>\n",
       "  <tbody>\n",
       "    <tr>\n",
       "      <th>0</th>\n",
       "      <td>Arsenal</td>\n",
       "      <td>75</td>\n",
       "      <td>83</td>\n",
       "      <td>38</td>\n",
       "    </tr>\n",
       "    <tr>\n",
       "      <th>1</th>\n",
       "      <td>Aston Villa</td>\n",
       "      <td>38</td>\n",
       "      <td>31</td>\n",
       "      <td>57</td>\n",
       "    </tr>\n",
       "    <tr>\n",
       "      <th>2</th>\n",
       "      <td>Bournemouth</td>\n",
       "      <td>30</td>\n",
       "      <td>42</td>\n",
       "      <td>73</td>\n",
       "    </tr>\n",
       "    <tr>\n",
       "      <th>3</th>\n",
       "      <td>Chelsea</td>\n",
       "      <td>87</td>\n",
       "      <td>73</td>\n",
       "      <td>32</td>\n",
       "    </tr>\n",
       "    <tr>\n",
       "      <th>4</th>\n",
       "      <td>Crystal Palace</td>\n",
       "      <td>48</td>\n",
       "      <td>47</td>\n",
       "      <td>51</td>\n",
       "    </tr>\n",
       "  </tbody>\n",
       "</table>\n",
       "</div>"
      ],
      "text/plain": [
       "                0   1   2   3\n",
       "0         Arsenal  75  83  38\n",
       "1     Aston Villa  38  31  57\n",
       "2     Bournemouth  30  42  73\n",
       "3         Chelsea  87  73  32\n",
       "4  Crystal Palace  48  47  51"
      ]
     },
     "execution_count": 15,
     "metadata": {},
     "output_type": "execute_result"
    }
   ],
   "source": [
    "import pandas as pd\n",
    "import numpy as np\n",
    "from sklearn import preprocessing\n",
    "\n",
    "NUM_GAMES = 380\n",
    "NUM_WEEKS = 38\n",
    "\n",
    "prev_perf_name = 'data/prev_perf.csv'\n",
    "csv_name = 'data/E0.csv'\n",
    "\n",
    "df = pd.read_csv(csv_name)\n",
    "df_prev = pd.read_csv(prev_perf_name, header=None)\n",
    "df_prev.head()\n",
    "\n",
    "#df.head()"
   ]
  },
  {
   "cell_type": "code",
   "execution_count": 11,
   "metadata": {},
   "outputs": [],
   "source": [
    "uniq_team_lst = list(df.HomeTeam.unique())\n",
    "uniq_team_lst.sort()\n",
    "\n",
    "home_team_ids = df.HomeTeam.apply(\n",
    "    lambda x: uniq_team_lst.index(x)\n",
    ") \n",
    "\n",
    "\n",
    "away_team_ids = df.AwayTeam.apply(\n",
    "    lambda x: uniq_team_lst.index(x) \n",
    ")\n",
    "\n",
    "score_diff = df.FTHG - df.FTAG\n"
   ]
  },
  {
   "cell_type": "code",
   "execution_count": 20,
   "metadata": {},
   "outputs": [
    {
     "name": "stdout",
     "output_type": "stream",
     "text": [
      "    1   2   3\n",
      "0  75  83  38\n",
      "1  38  31  57\n",
      "2  30  42  73\n"
     ]
    }
   ],
   "source": [
    "home_team_wk = [0] * NUM_GAMES\n",
    "away_team_wk = [0] * NUM_GAMES\n",
    "\n",
    "for i in range(NUM_GAMES):\n",
    "    home_team_wk[i] = sum(home_team_ids[:i+1] == home_team_ids[i]) + sum(\n",
    "    away_team_ids[:i+1] == home_team_ids[i])\n",
    "    \n",
    "    away_team_wk[i] = sum(home_team_ids[:i+1] == away_team_ids[i]) + sum(\n",
    "    away_team_ids[:i+1] == away_team_ids[i])\n"
   ]
  },
  {
   "cell_type": "code",
   "execution_count": 22,
   "metadata": {},
   "outputs": [
    {
     "name": "stdout",
     "output_type": "stream",
     "text": [
      "[ 0.57894737 -0.71929825 -1.          1.         -0.36842105 -0.40350877\n",
      " -0.61403509  0.12280702  0.71929825  0.40350877 -0.68421053 -1.\n",
      "  0.05263158 -0.15789474 -0.71929825 -0.0877193   0.19298246 -1.\n",
      " -0.50877193 -0.40350877]\n"
     ]
    }
   ],
   "source": [
    "prev_perf = preprocessing.minmax_scale(df_prev.iloc[:, 1], feature_range=(-1,1))\n",
    "print(prev_perf)"
   ]
  },
  {
   "cell_type": "code",
   "execution_count": null,
   "metadata": {},
   "outputs": [],
   "source": []
  }
 ],
 "metadata": {
  "kernelspec": {
   "display_name": "Python 3",
   "language": "python",
   "name": "python3"
  },
  "language_info": {
   "codemirror_mode": {
    "name": "ipython",
    "version": 3
   },
   "file_extension": ".py",
   "mimetype": "text/x-python",
   "name": "python",
   "nbconvert_exporter": "python",
   "pygments_lexer": "ipython3",
   "version": "3.6.8"
  }
 },
 "nbformat": 4,
 "nbformat_minor": 2
}
