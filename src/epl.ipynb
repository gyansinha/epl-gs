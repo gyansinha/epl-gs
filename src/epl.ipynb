{
 "cells": [
  {
   "cell_type": "code",
   "execution_count": 1,
   "metadata": {},
   "outputs": [],
   "source": [
    "import pandas as pd\n",
    "import numpy as np\n",
    "import theano as tt\n",
    "from sklearn import preprocessing"
   ]
  },
  {
   "cell_type": "code",
   "execution_count": 4,
   "metadata": {},
   "outputs": [],
   "source": [
    "import matplotlib.pyplot as plt\n",
    "import seaborn as sns\n",
    "sns.set()"
   ]
  },
  {
   "cell_type": "code",
   "execution_count": 5,
   "metadata": {},
   "outputs": [
    {
     "data": {
      "text/plain": [
       "('1.16.4', '1.2.1', '1.0.4', '3.6')"
      ]
     },
     "execution_count": 5,
     "metadata": {},
     "output_type": "execute_result"
    }
   ],
   "source": [
    "import pymc3 as pm\n",
    "import scipy\n",
    "np.__version__, scipy.__version__, tt.__version__, pm.__version__"
   ]
  },
  {
   "cell_type": "code",
   "execution_count": 6,
   "metadata": {},
   "outputs": [],
   "source": [
    "NUM_GAMES = 380\n",
    "NUM_WEEKS = 38\n",
    "\n",
    "csv_name = \"https://www.football-data.co.uk/mmz4281/1819/E0.csv\"\n",
    "prev_perf_name = '../data/prev_perf.csv'\n",
    "\n",
    "df = pd.read_csv(csv_name)\n",
    "df_prev = pd.read_csv(prev_perf_name, header=None)\n",
    "df_prev.columns = [\"team\", \"points\", \"goals_scored\", \"goals_conceded\"]"
   ]
  },
  {
   "cell_type": "code",
   "execution_count": 7,
   "metadata": {},
   "outputs": [],
   "source": [
    "uniq_team_lst = list(df[\"HomeTeam\"].unique())\n",
    "uniq_team_lst.sort()\n",
    "\n",
    "df[\"home_team_ids\"] = df[\"HomeTeam\"].apply(\n",
    "    lambda x: uniq_team_lst.index(x)\n",
    ") \n",
    "\n",
    "\n",
    "df[\"away_team_ids\"] = df.AwayTeam.apply(\n",
    "    lambda x: uniq_team_lst.index(x) \n",
    ")\n",
    "\n",
    "df[\"score_diff\"] = df[\"FTHG\"] - df[\"FTAG\"]"
   ]
  },
  {
   "cell_type": "code",
   "execution_count": 8,
   "metadata": {},
   "outputs": [],
   "source": [
    "home_team_ids = df[\"home_team_ids\"]\n",
    "away_team_ids = df[\"away_team_ids\"]"
   ]
  },
  {
   "cell_type": "code",
   "execution_count": 9,
   "metadata": {},
   "outputs": [],
   "source": [
    "home_team_wk = [0] * NUM_GAMES\n",
    "away_team_wk = [0] * NUM_GAMES\n",
    "\n",
    "for i in range(NUM_GAMES):\n",
    "    home_team_wk[i] = (\n",
    "        sum(home_team_ids[:i+1] == home_team_ids[i]) + \n",
    "        sum(away_team_ids[:i+1] == home_team_ids[i]) - 1\n",
    "    )\n",
    "    \n",
    "    away_team_wk[i] = (\n",
    "        sum(home_team_ids[:i+1] == away_team_ids[i]) + \n",
    "        sum(away_team_ids[:i+1] == away_team_ids[i]) - 1\n",
    "    )\n",
    "\n",
    "df[\"home_team_wk\"] = home_team_wk\n",
    "df[\"away_team_wk\"] = away_team_wk"
   ]
  },
  {
   "cell_type": "code",
   "execution_count": 10,
   "metadata": {},
   "outputs": [],
   "source": [
    "#prev_perf = preprocessing.minmax_scale(df_prev[\"goals_scored\"], feature_range=(-1,1))"
   ]
  },
  {
   "cell_type": "code",
   "execution_count": 11,
   "metadata": {},
   "outputs": [],
   "source": [
    "nteams = len(uniq_team_lst)\n",
    "ngames = df.shape[0]\n",
    "nweeks = round(2 * ngames/nteams)"
   ]
  },
  {
   "cell_type": "code",
   "execution_count": 12,
   "metadata": {},
   "outputs": [],
   "source": [
    "home_week_idx = df[\"home_team_wk\"].values\n",
    "home_team_idx = df[\"home_team_ids\"].values\n",
    "\n",
    "away_week_idx = df[\"away_team_wk\"].values\n",
    "away_team_idx = df[\"away_team_ids\"].values"
   ]
  },
  {
   "cell_type": "code",
   "execution_count": null,
   "metadata": {},
   "outputs": [
    {
     "name": "stderr",
     "output_type": "stream",
     "text": [
      "/anaconda3/lib/python3.6/site-packages/theano/tensor/subtensor.py:2197: FutureWarning: Using a non-tuple sequence for multidimensional indexing is deprecated; use `arr[tuple(seq)]` instead of `arr[seq]`. In the future this will be interpreted as an array index, `arr[np.array(seq)]`, which will result either in an error or a different result.\n",
      "  rval = inputs[0].__getitem__(inputs[1:])\n",
      "/anaconda3/lib/python3.6/site-packages/theano/tensor/subtensor.py:2197: FutureWarning: Using a non-tuple sequence for multidimensional indexing is deprecated; use `arr[tuple(seq)]` instead of `arr[seq]`. In the future this will be interpreted as an array index, `arr[np.array(seq)]`, which will result either in an error or a different result.\n",
      "  rval = inputs[0].__getitem__(inputs[1:])\n",
      "/anaconda3/lib/python3.6/site-packages/theano/tensor/subtensor.py:2197: FutureWarning: Using a non-tuple sequence for multidimensional indexing is deprecated; use `arr[tuple(seq)]` instead of `arr[seq]`. In the future this will be interpreted as an array index, `arr[np.array(seq)]`, which will result either in an error or a different result.\n",
      "  rval = inputs[0].__getitem__(inputs[1:])\n",
      "Auto-assigning NUTS sampler...\n",
      "Initializing NUTS using jitter+adapt_diag...\n",
      "/anaconda3/lib/python3.6/site-packages/theano/tensor/subtensor.py:2197: FutureWarning: Using a non-tuple sequence for multidimensional indexing is deprecated; use `arr[tuple(seq)]` instead of `arr[seq]`. In the future this will be interpreted as an array index, `arr[np.array(seq)]`, which will result either in an error or a different result.\n",
      "  rval = inputs[0].__getitem__(inputs[1:])\n",
      "Multiprocess sampling (4 chains in 4 jobs)\n",
      "NUTS: [a, nu, sigma_y, b_home]\n",
      "Sampling 4 chains:   0%|          | 0/6000 [00:00<?, ?draws/s]/anaconda3/lib/python3.6/site-packages/theano/tensor/subtensor.py:2197: FutureWarning: Using a non-tuple sequence for multidimensional indexing is deprecated; use `arr[tuple(seq)]` instead of `arr[seq]`. In the future this will be interpreted as an array index, `arr[np.array(seq)]`, which will result either in an error or a different result.\n",
      "  rval = inputs[0].__getitem__(inputs[1:])\n",
      "/anaconda3/lib/python3.6/site-packages/theano/tensor/subtensor.py:2197: FutureWarning: Using a non-tuple sequence for multidimensional indexing is deprecated; use `arr[tuple(seq)]` instead of `arr[seq]`. In the future this will be interpreted as an array index, `arr[np.array(seq)]`, which will result either in an error or a different result.\n",
      "  rval = inputs[0].__getitem__(inputs[1:])\n",
      "/anaconda3/lib/python3.6/site-packages/theano/tensor/subtensor.py:2197: FutureWarning: Using a non-tuple sequence for multidimensional indexing is deprecated; use `arr[tuple(seq)]` instead of `arr[seq]`. In the future this will be interpreted as an array index, `arr[np.array(seq)]`, which will result either in an error or a different result.\n",
      "  rval = inputs[0].__getitem__(inputs[1:])\n",
      "/anaconda3/lib/python3.6/site-packages/theano/tensor/subtensor.py:2197: FutureWarning: Using a non-tuple sequence for multidimensional indexing is deprecated; use `arr[tuple(seq)]` instead of `arr[seq]`. In the future this will be interpreted as an array index, `arr[np.array(seq)]`, which will result either in an error or a different result.\n",
      "  rval = inputs[0].__getitem__(inputs[1:])\n",
      "Sampling 4 chains:   1%|          | 54/6000 [00:00<01:42, 58.02draws/s]"
     ]
    }
   ],
   "source": [
    "y = df[\"score_diff\"]\n",
    "\n",
    "with pm.Model() as epl_model:\n",
    "    b_home = pm.Normal(\"b_home\", mu=1, sd=1)\n",
    "    sigma_y = pm.HalfCauchy(\"sigma_y\", 5)\n",
    "    nu = pm.Gamma(\"nu\", 2, 0.1)    \n",
    "    a = pm.Normal(\"a\", mu=0, sd=1, shape=(nweeks, nteams))\n",
    "    \n",
    "    y_obs = pm.StudentT(\n",
    "        'y_obs',\n",
    "        mu=b_home + a[home_week_idx, home_team_idx] - a[away_week_idx, away_team_idx],\n",
    "        sd=sigma_y,\n",
    "        nu=nu,\n",
    "        observed=y\n",
    "    )\n",
    "\n",
    "    prior = pm.sample_prior_predictive()\n",
    "    posterior = pm.sample(tune=1000, sample=2500, target_accept=0.85)\n",
    "    posterior_pred = pm.sample_ppc(posterior)"
   ]
  },
  {
   "cell_type": "code",
   "execution_count": null,
   "metadata": {},
   "outputs": [],
   "source": [
    "pm.traceplot(posterior, varnames=[\"b_home\", \"sigma_y\", \"nu\"]);"
   ]
  },
  {
   "cell_type": "code",
   "execution_count": null,
   "metadata": {},
   "outputs": [],
   "source": [
    "pm.summary(posterior, varnames=[\"b_home\", \"sigma_y\", \"nu\"])"
   ]
  },
  {
   "cell_type": "code",
   "execution_count": null,
   "metadata": {},
   "outputs": [],
   "source": [
    "np.median(posterior.get_values(\"a\")[:, :, 0], axis=0)"
   ]
  }
 ],
 "metadata": {
  "kernelspec": {
   "display_name": "Python 3",
   "language": "python",
   "name": "python3"
  },
  "language_info": {
   "codemirror_mode": {
    "name": "ipython",
    "version": 3
   },
   "file_extension": ".py",
   "mimetype": "text/x-python",
   "name": "python",
   "nbconvert_exporter": "python",
   "pygments_lexer": "ipython3",
   "version": "3.6.8"
  }
 },
 "nbformat": 4,
 "nbformat_minor": 2
}
